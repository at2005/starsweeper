{
 "cells": [
  {
   "cell_type": "code",
   "execution_count": 4,
   "metadata": {},
   "outputs": [],
   "source": [
    "from astropy.coordinates import SkyCoord, HeliocentricMeanEcliptic, BarycentricMeanEcliptic, BarycentricTrueEcliptic\n",
    "from astropy.coordinates import get_body_barycentric\n",
    "from astropy.time import Time\n",
    "from astroquery.jplhorizons import Horizons\n",
    "\n",
    "import astropy.units as u\n",
    "\n",
    "import numpy as np\n",
    "import matplotlib.pyplot as plt\n",
    "\n",
    "def get_parallax_vector(t_in_days):\n",
    "    earth = Horizons(id='399', \n",
    "                   location='500@0',\n",
    "                   epochs=2451545.0)\n",
    "    obj = Horizons(id=\"90377;\",\n",
    "                   location=\"500@0\",\n",
    "                   epochs=2451545.0)\n",
    "\n",
    "    vx,vy,vz = earth.vectors()['vx'],earth.vectors()['vy'],earth.vectors()['vz']\n",
    "    x,y,z = obj.vectors()['x'],obj.vectors()['y'],obj.vectors()['z'] \n",
    "    x_0 = np.array([x,y,z])\n",
    "    v = np.array([vx,vy,vz])\n",
    "    parallax = x_0 + v * t_in_days\n",
    "    # parallax points in the opposite direction of the velocity\n",
    "    return -1 * parallax\n",
    "    "
   ]
  },
  {
   "cell_type": "code",
   "execution_count": null,
   "metadata": {},
   "outputs": [],
   "source": [
    "from numpy import radians, sin, cos\n",
    "RA_CENTER_IDX = 512\n",
    "DEC_CENTER_IDX = 512\n",
    "DEG_PER_PIXEL = 0.25 / 3600\n",
    "from tqdm import tqdm\n",
    "\n",
    "import numpy as np\n",
    "\n",
    "def to_rotation_matrix(inclination, ascending_node, argument_of_periapsis):\n",
    "    # Calculate trigonometric values\n",
    "    cos_i = np.cos(inclination)\n",
    "    sin_i = np.sin(inclination)\n",
    "    cos_o = np.cos(ascending_node)\n",
    "    sin_o = np.sin(ascending_node)\n",
    "    cos_p = np.cos(argument_of_periapsis)\n",
    "    sin_p = np.sin(argument_of_periapsis)\n",
    "    \n",
    "    # Ecliptic tilt (Earth's axial tilt)\n",
    "\n",
    "    \n",
    "    # Define the rotation matrices\n",
    "    inclination_matrix = np.array([\n",
    "        [1.0, 0.0, 0.0],\n",
    "        [0.0, cos_i, -sin_i],\n",
    "        [0.0, sin_i, cos_i]\n",
    "    ])\n",
    "\n",
    "    ascending_node_matrix = np.array([\n",
    "        [cos_o, -sin_o, 0.0],\n",
    "        [sin_o, cos_o, 0.0],\n",
    "        [0.0, 0.0, 1.0]\n",
    "    ])\n",
    "\n",
    "    argument_of_periapsis_matrix = np.array([\n",
    "        [cos_p, -sin_p, 0.0],\n",
    "        [sin_p, cos_p, 0.0],\n",
    "        [0.0, 0.0, 1.0]\n",
    "    ])\n",
    "\n",
    "\n",
    "    # Perform matrix multiplication\n",
    "    rotation_matrix = (inclination_matrix @ ascending_node_matrix)\n",
    "    \n",
    "    return rotation_matrix\n",
    "\n",
    "\n",
    "def trace_path_across_image(image, ra_center, dec_center, orbital_elements):\n",
    "    axial_tilt = np.radians(23.44)\n",
    "    cos_tilt = np.cos(axial_tilt)\n",
    "    sin_tilt = np.sin(axial_tilt)\n",
    "\n",
    "    tilt_matrix = np.array([\n",
    "        [1.0, 0.0, 0.0],\n",
    "        [0.0, cos_tilt, sin_tilt],\n",
    "        [0.0, -sin_tilt, cos_tilt]\n",
    "    ])\n",
    "\n",
    "    output = np.zeros_like(image)\n",
    "    for i in tqdm(range(len(image))):\n",
    "        for j in range(len(image[i])):\n",
    "            # so what we want to do is find the ra/dec of a pixel\n",
    "            dec_current = dec_center + (i - DEC_CENTER_IDX) * DEG_PER_PIXEL\n",
    "            ra_current = ra_center + (j - RA_CENTER_IDX) * DEG_PER_PIXEL\n",
    "            dec_current = radians(dec_current)\n",
    "            ra_current = radians(ra_current)\n",
    "            x = cos(dec_current) * cos(ra_current)\n",
    "            y = cos(dec_current) * sin(ra_current)\n",
    "            z = sin(dec_current)\n",
    "\n",
    "            x,y,z = tilt_matrix @ np.array([x, y, z])\n",
    "\n",
    "            # the above are geocentric coordinates expressed relative to the ecliptic, but we want heliocentric coords since orbital elements are heliocentric\n",
    "            # so we need to fetch earth's position w.r.t the sun using Horizons\n",
    "            # we can do this by using the JPL Horizons API\n",
    "\n",
    "            x_earth, y_earth, z_earth = (-0.17713507,  0.88742852,  0.38474289)\n",
    "            x -= x_earth\n",
    "            y -= y_earth\n",
    "            z -= z_earth\n",
    "\n",
    "            mat = to_rotation_matrix(radians(orbital_elements[\"inclination\"]), radians(orbital_elements[\"ascending_node\"]), radians(orbital_elements[\"periapsis\"]))\n",
    "            z_p = mat[2][0] * x + mat[2][1] * y + mat[2][2] * z\n",
    "            if abs(z_p) < 1e-6:\n",
    "                output[i][j] = 255\n",
    "            else:\n",
    "                output[i][j] = image[i][j]\n",
    "    return output "
   ]
  },
  {
   "cell_type": "code",
   "execution_count": 6,
   "metadata": {},
   "outputs": [
    {
     "data": {
      "text/plain": [
       "array([[ 0.84385396,  0.53657292,  0.        ],\n",
       "       [ 0.06527028, -0.10264884,  0.99257393],\n",
       "       [ 0.53258829, -0.83758744, -0.1216429 ]])"
      ]
     },
     "execution_count": 6,
     "metadata": {},
     "output_type": "execute_result"
    }
   ],
   "source": [
    "# IMG_DIM = RA_CENTER_IDX * 2 + 1\n",
    "# image = [[0 for i in range(IMG_DIM)] for j in range(IMG_DIM)]\n",
    "# path = trace_path_across_image(image, 0, 0)\n",
    "# path\n",
    "\n",
    "\n",
    "# # view as image\n",
    "# import matplotlib.pyplot as plt\n",
    "# plt.imshow(image)\n",
    "# plt.show()\n",
    "\n",
    "to_rotation_matrix(23.44, 12, 5)\n",
    "\n",
    "# axial_tilt = np.radians(23.44)\n",
    "# cos_tilt = np.cos(axial_tilt)\n",
    "# sin_tilt = np.sin(axial_tilt)\n",
    "\n",
    "# tilt_matrix = np.array([\n",
    "#     [1.0, 0.0, 0.0],\n",
    "#     [0.0, cos_tilt, sin_tilt],\n",
    "#     [0.0, -sin_tilt, cos_tilt]\n",
    "# ])\n",
    "\n",
    "# tilt_matrix"
   ]
  },
  {
   "cell_type": "code",
   "execution_count": 7,
   "metadata": {},
   "outputs": [
    {
     "name": "stderr",
     "output_type": "stream",
     "text": [
      "100%|██████████| 1024/1024 [00:16<00:00, 61.66it/s]\n"
     ]
    },
    {
     "data": {
      "image/png": "[encoded data removed]",
      "text/plain": [
       "<Figure size 640x480 with 1 Axes>"
      ]
     },
     "metadata": {},
     "output_type": "display_data"
    }
   ],
   "source": [
    "# open test.jpeg as a numpy array\n",
    "import numpy as np\n",
    "from PIL import Image\n",
    "\n",
    "\n",
    "img = Image.open(\"test.jpeg\")\n",
    "img = np.array(img)\n",
    "\n",
    "\n",
    "for i in range(0, 1):\n",
    "    for j in range(0, 1):\n",
    "        path = trace_path_across_image(img, i, j, {\n",
    "            \"periapsis\": 0,\n",
    "            \"ascending_node\": 0,\n",
    "            \"inclination\": 45 \n",
    "        })\n",
    "        plt.imshow(path, cmap=\"gray\")\n",
    "        plt.show()\n",
    "    \n",
    "\n"
   ]
  },
  {
   "cell_type": "code",
   "execution_count": null,
   "metadata": {},
   "outputs": [],
   "source": []
  },
  {
   "cell_type": "code",
   "execution_count": null,
   "metadata": {},
   "outputs": [
    {
     "name": "stdout",
     "output_type": "stream",
     "text": [
      "Earth's heliocentric position at J2000 (in AU): [-0.17713507  0.88742852  0.38474289] AU\n"
     ]
    }
   ],
   "source": [
    "from astropy.time import Time\n",
    "from astropy.coordinates import get_body_barycentric\n",
    "import astropy.units as u\n",
    "\n",
    "# Define the J2000 epoch\n",
    "j2000 = Time('2000-01-01 12:00:00', scale='tt')\n",
    "\n",
    "# Get the barycentric positions of Earth and the Sun at J2000\n",
    "earth_barycentric = get_body_barycentric('earth', j2000)\n",
    "sun_barycentric = get_body_barycentric('sun', j2000)\n",
    "\n",
    "# Calculate the heliocentric position of Earth by subtracting Sun's position\n",
    "earth_heliocentric = earth_barycentric - sun_barycentric\n",
    "\n",
    "# Convert to Astronomical Units (AU)\n",
    "earth_heliocentric_au = earth_heliocentric.xyz.to(u.au)\n",
    "\n",
    "# Print the result\n",
    "print(f\"Earth's heliocentric position at J2000 (in AU): {earth_heliocentric_au}\")\n"
   ]
  },
  {
   "cell_type": "code",
   "execution_count": null,
   "metadata": {},
   "outputs": [],
   "source": []
  }
 ],
 "metadata": {
  "kernelspec": {
   "display_name": "mlp",
   "language": "python",
   "name": "python3"
  },
  "language_info": {
   "codemirror_mode": {
    "name": "ipython",
    "version": 3
   },
   "file_extension": ".py",
   "mimetype": "text/x-python",
   "name": "python",
   "nbconvert_exporter": "python",
   "pygments_lexer": "ipython3",
   "version": "3.8.18"
  }
 },
 "nbformat": 4,
 "nbformat_minor": 2
}
